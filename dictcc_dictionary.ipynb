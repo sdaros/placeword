{
 "cells": [
  {
   "cell_type": "markdown",
   "metadata": {},
   "source": [
    "## Use the dictionary from dict.cc to generate our word list"
   ]
  },
  {
   "cell_type": "markdown",
   "metadata": {},
   "source": [
    "### Download the dictionary from http://www.dict.cc/?s=about%3Awordlist"
   ]
  },
  {
   "cell_type": "markdown",
   "metadata": {},
   "source": [
    "### Print out the first 20 lines of the dictionary"
   ]
  },
  {
   "cell_type": "code",
   "execution_count": 2,
   "metadata": {
    "collapsed": false
   },
   "outputs": [
    {
     "name": "stdout",
     "output_type": "stream",
     "text": [
      "# DE-EN vocabulary database\tcompiled by dict.cc\r\n",
      "# Date and time\t2016-08-29 23:46\r\n",
      "# License\tTHIS WORK IS PROTECTED BY INTERNATIONAL COPYRIGHT LAWS!\r\n",
      "# License\tPrivate use is allowed as long as the data, or parts of it, are not published or given away.\r\n",
      "# License\tBy using this file, you agree to be bound to the Terms of Use published at the following URL:  \r\n",
      "# License\thttp://www.dict.cc/translation_file_request.php\r\n",
      "# Contains data from\thttp://dict.tu-chemnitz.de/ with friendly permission by Frank Richter, TU Chemnitz \r\n",
      "# Brought to you by\tPaul Hemetsberger and the users of http://www.dict.cc/, 2002 - 2016\r\n",
      "\r\n",
      "&#945;-Keratin {n}\t&#945;-keratin\tnoun\r\n",
      "&#945;-Lactalbumin {n} <&#945;-La>\t&#945;-lactalbumin <&#945;-La>\tnoun\r\n",
      "&#946;-Mercaptoethanol {n}\t&#946;-mercaptoethanol\tnoun\r\n",
      "&#963;-Algebra {f}\t&#963;-field\tnoun\r\n",
      "&#963;-Algebra {f}\tsigma algebra\tnoun\r\n",
      "& Co.\tand company <& Co.>\t\r\n",
      "'Die' heißt mein Unterrock, und 'der' hängt im Schrank. [regional] [Satz, mit dem Kinder gerügt werden, die von einer (anwesenden) Frau mit 'die' sprechen]\t'She' is the cat's mother. [used to encourage children to use names instead of pronouns to refer to females to whom they should show respect]\t\r\n",
      "'n Abend allerseits! [ugs.]\tEvening all! [coll.]\t\r\n",
      "'nauf [regional] [hinauf]\tup\tadv\r\n",
      "'Nduja {f} [auch: Nduja]\t'nduja [also: nduja]\tnoun\r\n",
      "'ne Macke haben [ugs.]\tto be off one's head [coll.]\tverb\r\n"
     ]
    }
   ],
   "source": [
    "!head -n 20 de-en.txt"
   ]
  },
  {
   "cell_type": "markdown",
   "metadata": {},
   "source": [
    "### Insert csv header after licensing information"
   ]
  },
  {
   "cell_type": "code",
   "execution_count": 3,
   "metadata": {
    "collapsed": true
   },
   "outputs": [],
   "source": [
    "!sed \"9 a GermanWord\\tEnglishWord\\tWordType\" \"de-en.txt\" > \"dictionary-as-csv-file.txt\""
   ]
  },
  {
   "cell_type": "markdown",
   "metadata": {},
   "source": [
    "### Use pandas library to import csv file"
   ]
  },
  {
   "cell_type": "code",
   "execution_count": 4,
   "metadata": {
    "collapsed": false
   },
   "outputs": [],
   "source": [
    "import pandas as pd\n",
    "\n",
    "\n",
    "dictcc_df = pd.read_csv(\"dictionary-as-csv-file.txt\", sep='\\t', header=8)"
   ]
  },
  {
   "cell_type": "markdown",
   "metadata": {
    "collapsed": true
   },
   "source": [
    "### display some of the contents of the dictcc dataframe (dictcc_df)"
   ]
  },
  {
   "cell_type": "code",
   "execution_count": 5,
   "metadata": {
    "collapsed": false
   },
   "outputs": [
    {
     "data": {
      "text/html": [
       "<div>\n",
       "<table border=\"1\" class=\"dataframe\">\n",
       "  <thead>\n",
       "    <tr style=\"text-align: right;\">\n",
       "      <th></th>\n",
       "      <th>GermanWord</th>\n",
       "      <th>EnglishWord</th>\n",
       "      <th>WordType</th>\n",
       "    </tr>\n",
       "  </thead>\n",
       "  <tbody>\n",
       "    <tr>\n",
       "      <th>0</th>\n",
       "      <td>&amp;#945;-Keratin {n}</td>\n",
       "      <td>&amp;#945;-keratin</td>\n",
       "      <td>noun</td>\n",
       "    </tr>\n",
       "    <tr>\n",
       "      <th>1</th>\n",
       "      <td>&amp;#945;-Lactalbumin {n} &lt;&amp;#945;-La&gt;</td>\n",
       "      <td>&amp;#945;-lactalbumin &lt;&amp;#945;-La&gt;</td>\n",
       "      <td>noun</td>\n",
       "    </tr>\n",
       "    <tr>\n",
       "      <th>2</th>\n",
       "      <td>&amp;#946;-Mercaptoethanol {n}</td>\n",
       "      <td>&amp;#946;-mercaptoethanol</td>\n",
       "      <td>noun</td>\n",
       "    </tr>\n",
       "    <tr>\n",
       "      <th>3</th>\n",
       "      <td>&amp;#963;-Algebra {f}</td>\n",
       "      <td>&amp;#963;-field</td>\n",
       "      <td>noun</td>\n",
       "    </tr>\n",
       "    <tr>\n",
       "      <th>4</th>\n",
       "      <td>&amp;#963;-Algebra {f}</td>\n",
       "      <td>sigma algebra</td>\n",
       "      <td>noun</td>\n",
       "    </tr>\n",
       "    <tr>\n",
       "      <th>5</th>\n",
       "      <td>&amp; Co.</td>\n",
       "      <td>and company &lt;&amp; Co.&gt;</td>\n",
       "      <td>NaN</td>\n",
       "    </tr>\n",
       "    <tr>\n",
       "      <th>6</th>\n",
       "      <td>'Die' heißt mein Unterrock, und 'der' hängt im...</td>\n",
       "      <td>'She' is the cat's mother. [used to encourage ...</td>\n",
       "      <td>NaN</td>\n",
       "    </tr>\n",
       "    <tr>\n",
       "      <th>7</th>\n",
       "      <td>'n Abend allerseits! [ugs.]</td>\n",
       "      <td>Evening all! [coll.]</td>\n",
       "      <td>NaN</td>\n",
       "    </tr>\n",
       "    <tr>\n",
       "      <th>8</th>\n",
       "      <td>'nauf [regional] [hinauf]</td>\n",
       "      <td>up</td>\n",
       "      <td>adv</td>\n",
       "    </tr>\n",
       "    <tr>\n",
       "      <th>9</th>\n",
       "      <td>'Nduja {f} [auch: Nduja]</td>\n",
       "      <td>'nduja [also: nduja]</td>\n",
       "      <td>noun</td>\n",
       "    </tr>\n",
       "    <tr>\n",
       "      <th>10</th>\n",
       "      <td>'ne Macke haben [ugs.]</td>\n",
       "      <td>to be off one's head [coll.]</td>\n",
       "      <td>verb</td>\n",
       "    </tr>\n",
       "    <tr>\n",
       "      <th>11</th>\n",
       "      <td>'ne Menge ... [ugs.]</td>\n",
       "      <td>plenty of ...</td>\n",
       "      <td>NaN</td>\n",
       "    </tr>\n",
       "    <tr>\n",
       "      <th>12</th>\n",
       "      <td>'ne Menge [ugs.]</td>\n",
       "      <td>lots of [coll.]</td>\n",
       "      <td>NaN</td>\n",
       "    </tr>\n",
       "    <tr>\n",
       "      <th>13</th>\n",
       "      <td>'Nen interessanten Job habt ihr Jungs da. [ugs.]</td>\n",
       "      <td>Interesting job you guys have.</td>\n",
       "      <td>NaN</td>\n",
       "    </tr>\n",
       "    <tr>\n",
       "      <th>14</th>\n",
       "      <td>'nen [ugs.] [einen]</td>\n",
       "      <td>a</td>\n",
       "      <td>NaN</td>\n",
       "    </tr>\n",
       "    <tr>\n",
       "      <th>15</th>\n",
       "      <td>'nen [ugs.] [einen]</td>\n",
       "      <td>an</td>\n",
       "      <td>NaN</td>\n",
       "    </tr>\n",
       "    <tr>\n",
       "      <th>16</th>\n",
       "      <td>'ne [ugs.] [eine]</td>\n",
       "      <td>a</td>\n",
       "      <td>NaN</td>\n",
       "    </tr>\n",
       "    <tr>\n",
       "      <th>17</th>\n",
       "      <td>'nunter [regional] [hinunter]</td>\n",
       "      <td>down</td>\n",
       "      <td>adv</td>\n",
       "    </tr>\n",
       "    <tr>\n",
       "      <th>18</th>\n",
       "      <td>'n [ugs.] [ein, einen]</td>\n",
       "      <td>a</td>\n",
       "      <td>NaN</td>\n",
       "    </tr>\n",
       "    <tr>\n",
       "      <th>19</th>\n",
       "      <td>'n [ugs.] [ein, einen]</td>\n",
       "      <td>an</td>\n",
       "      <td>NaN</td>\n",
       "    </tr>\n",
       "    <tr>\n",
       "      <th>20</th>\n",
       "      <td>'s ist [meist poet.: es ist]</td>\n",
       "      <td>'tis</td>\n",
       "      <td>NaN</td>\n",
       "    </tr>\n",
       "    <tr>\n",
       "      <th>21</th>\n",
       "      <td>'s war</td>\n",
       "      <td>'twas</td>\n",
       "      <td>NaN</td>\n",
       "    </tr>\n",
       "    <tr>\n",
       "      <th>22</th>\n",
       "      <td>'türlich! [ugs.] [Natürlich!]</td>\n",
       "      <td>That's for sure.</td>\n",
       "      <td>NaN</td>\n",
       "    </tr>\n",
       "    <tr>\n",
       "      <th>23</th>\n",
       "      <td>(1x) täglich</td>\n",
       "      <td>once a day &lt;q.d.&gt; &lt;qd&gt; [quaque die]</td>\n",
       "      <td>adv</td>\n",
       "    </tr>\n",
       "    <tr>\n",
       "      <th>24</th>\n",
       "      <td>(90377) Sedna {f} {m}</td>\n",
       "      <td>(90377) Sedna</td>\n",
       "      <td>noun</td>\n",
       "    </tr>\n",
       "    <tr>\n",
       "      <th>25</th>\n",
       "      <td>(136108) Haumea {f}</td>\n",
       "      <td>(136108) Haumea</td>\n",
       "      <td>noun</td>\n",
       "    </tr>\n",
       "    <tr>\n",
       "      <th>26</th>\n",
       "      <td>(A-) Prima-Vista-Singen {n}</td>\n",
       "      <td>sight-singing</td>\n",
       "      <td>noun</td>\n",
       "    </tr>\n",
       "    <tr>\n",
       "      <th>27</th>\n",
       "      <td>(abends) ausgehen</td>\n",
       "      <td>to go for a night out</td>\n",
       "      <td>verb</td>\n",
       "    </tr>\n",
       "    <tr>\n",
       "      <th>28</th>\n",
       "      <td>(abends) ausgehen</td>\n",
       "      <td>to have a night out</td>\n",
       "      <td>verb</td>\n",
       "    </tr>\n",
       "    <tr>\n",
       "      <th>29</th>\n",
       "      <td>(aber) auch so</td>\n",
       "      <td>(but) even so</td>\n",
       "      <td>NaN</td>\n",
       "    </tr>\n",
       "    <tr>\n",
       "      <th>...</th>\n",
       "      <td>...</td>\n",
       "      <td>...</td>\n",
       "      <td>...</td>\n",
       "    </tr>\n",
       "    <tr>\n",
       "      <th>1106234</th>\n",
       "      <td>”...” würde ich das nicht unbedingt nennen.</td>\n",
       "      <td>'...' isn't the word I'd choose to describe it...</td>\n",
       "      <td>NaN</td>\n",
       "    </tr>\n",
       "    <tr>\n",
       "      <th>1106235</th>\n",
       "      <td>”Auf-Biegen-und-Brechen”-Klausel {f}</td>\n",
       "      <td>hell-or-high-water clause</td>\n",
       "      <td>noun</td>\n",
       "    </tr>\n",
       "    <tr>\n",
       "      <th>1106236</th>\n",
       "      <td>”Auf-Biegen-und-Brechen”-Vertrag {m}</td>\n",
       "      <td>hell-or-high-water contract</td>\n",
       "      <td>noun</td>\n",
       "    </tr>\n",
       "    <tr>\n",
       "      <th>1106237</th>\n",
       "      <td>”Bombenerfinder” {m}</td>\n",
       "      <td>bomb inventor</td>\n",
       "      <td>noun</td>\n",
       "    </tr>\n",
       "    <tr>\n",
       "      <th>1106238</th>\n",
       "      <td>”Bostoner Ehe” {f} [Lebensgemeinschaft von zwe...</td>\n",
       "      <td>Boston marriage</td>\n",
       "      <td>noun</td>\n",
       "    </tr>\n",
       "    <tr>\n",
       "      <th>1106239</th>\n",
       "      <td>”Danke.” - ”Gern geschehen.”</td>\n",
       "      <td>”Thank you.” - ”Done.” [coll.]</td>\n",
       "      <td>NaN</td>\n",
       "    </tr>\n",
       "    <tr>\n",
       "      <th>1106240</th>\n",
       "      <td>”der fröhliche Monarch” [volkstümliche Bezeich...</td>\n",
       "      <td>the Merry Monarch</td>\n",
       "      <td>noun</td>\n",
       "    </tr>\n",
       "    <tr>\n",
       "      <th>1106241</th>\n",
       "      <td>”Du sagst nicht die Wahrheit, oder?” ”Sag ich ...</td>\n",
       "      <td>”You're not telling the truth, are you?” ”I am...</td>\n",
       "      <td>NaN</td>\n",
       "    </tr>\n",
       "    <tr>\n",
       "      <th>1106242</th>\n",
       "      <td>”Du warst auch da.” ”Stimmt ja! Hatte ich verg...</td>\n",
       "      <td>”You were there, too.” ”So I was - I'd forgott...</td>\n",
       "      <td>NaN</td>\n",
       "    </tr>\n",
       "    <tr>\n",
       "      <th>1106243</th>\n",
       "      <td>”Good” lässt sich (hier) mit ”gut” übersetzen.</td>\n",
       "      <td>”Good” translates as ”gut” (here).</td>\n",
       "      <td>NaN</td>\n",
       "    </tr>\n",
       "    <tr>\n",
       "      <th>1106244</th>\n",
       "      <td>”groß” machen [Kindersprache]</td>\n",
       "      <td>to do a number two [children's talk]</td>\n",
       "      <td>verb</td>\n",
       "    </tr>\n",
       "    <tr>\n",
       "      <th>1106245</th>\n",
       "      <td>”Hallo, hier ist Michael.”</td>\n",
       "      <td>”Hi, this is Michael.” [caller on telephone]</td>\n",
       "      <td>NaN</td>\n",
       "    </tr>\n",
       "    <tr>\n",
       "      <th>1106246</th>\n",
       "      <td>”Hallo, mein Name ist Michael Schmidt.”</td>\n",
       "      <td>”Hi, this is Michael Schmidt.” [caller on tele...</td>\n",
       "      <td>NaN</td>\n",
       "    </tr>\n",
       "    <tr>\n",
       "      <th>1106247</th>\n",
       "      <td>”Old Boy Network” {n} [Männerfreundschaften, z...</td>\n",
       "      <td>old boy network</td>\n",
       "      <td>noun</td>\n",
       "    </tr>\n",
       "    <tr>\n",
       "      <th>1106248</th>\n",
       "      <td>”Pick-up”-Presse {f}</td>\n",
       "      <td>baler</td>\n",
       "      <td>noun</td>\n",
       "    </tr>\n",
       "    <tr>\n",
       "      <th>1106249</th>\n",
       "      <td>”Revier” {n} [ugs.]</td>\n",
       "      <td>Ruhr area</td>\n",
       "      <td>noun</td>\n",
       "    </tr>\n",
       "    <tr>\n",
       "      <th>1106250</th>\n",
       "      <td>”Rund um die Uhr”-Handel {m}</td>\n",
       "      <td>24-hour trading</td>\n",
       "      <td>noun</td>\n",
       "    </tr>\n",
       "    <tr>\n",
       "      <th>1106251</th>\n",
       "      <td>”Rund um die Uhr”-Handel {m}</td>\n",
       "      <td>all-day trading</td>\n",
       "      <td>noun</td>\n",
       "    </tr>\n",
       "    <tr>\n",
       "      <th>1106252</th>\n",
       "      <td>”Stand!” [Seilkommando]</td>\n",
       "      <td>”off belay!”</td>\n",
       "      <td>NaN</td>\n",
       "    </tr>\n",
       "    <tr>\n",
       "      <th>1106253</th>\n",
       "      <td>”Vermischtes”</td>\n",
       "      <td>”Miscellaneous” [heading]</td>\n",
       "      <td>NaN</td>\n",
       "    </tr>\n",
       "    <tr>\n",
       "      <th>1106254</th>\n",
       "      <td>”von oben nach unten”-Methode {f} [Renominalis...</td>\n",
       "      <td>top-down method</td>\n",
       "      <td>noun</td>\n",
       "    </tr>\n",
       "    <tr>\n",
       "      <th>1106255</th>\n",
       "      <td>”Wechselstaat” {m} [US-Bundesstaat, der keiner...</td>\n",
       "      <td>swing state</td>\n",
       "      <td>noun</td>\n",
       "    </tr>\n",
       "    <tr>\n",
       "      <th>1106256</th>\n",
       "      <td>”Welche Wonne!”, seufzte sie.</td>\n",
       "      <td>”Ecstasy!” she sighed.</td>\n",
       "      <td>NaN</td>\n",
       "    </tr>\n",
       "    <tr>\n",
       "      <th>1106257</th>\n",
       "      <td>”wer” sein [ugs.]</td>\n",
       "      <td>to be (a) somebody</td>\n",
       "      <td>verb</td>\n",
       "    </tr>\n",
       "    <tr>\n",
       "      <th>1106258</th>\n",
       "      <td>”widerrechtliches Betreten wird strafrechtlich...</td>\n",
       "      <td>”trespassers will be prosecuted”</td>\n",
       "      <td>NaN</td>\n",
       "    </tr>\n",
       "    <tr>\n",
       "      <th>1106259</th>\n",
       "      <td>”Zahn in Zahn”</td>\n",
       "      <td>dens in dente [tooth within a tooth]</td>\n",
       "      <td>NaN</td>\n",
       "    </tr>\n",
       "    <tr>\n",
       "      <th>1106260</th>\n",
       "      <td>„...“, so Merkel.</td>\n",
       "      <td>”...”, said Merkel.</td>\n",
       "      <td>NaN</td>\n",
       "    </tr>\n",
       "    <tr>\n",
       "      <th>1106261</th>\n",
       "      <td>„Hallo, Michael hier.”</td>\n",
       "      <td>”Hi, this is Michael.” [caller on telephone]</td>\n",
       "      <td>NaN</td>\n",
       "    </tr>\n",
       "    <tr>\n",
       "      <th>1106262</th>\n",
       "      <td>„Schnellspur“-Chirurgie {f} [perioperatives th...</td>\n",
       "      <td>fast track surgery</td>\n",
       "      <td>noun</td>\n",
       "    </tr>\n",
       "    <tr>\n",
       "      <th>1106263</th>\n",
       "      <td>„Zum Geleit“</td>\n",
       "      <td>'Preface'</td>\n",
       "      <td>NaN</td>\n",
       "    </tr>\n",
       "  </tbody>\n",
       "</table>\n",
       "<p>1106264 rows × 3 columns</p>\n",
       "</div>"
      ],
      "text/plain": [
       "                                                GermanWord  \\\n",
       "0                                       &#945;-Keratin {n}   \n",
       "1                       &#945;-Lactalbumin {n} <&#945;-La>   \n",
       "2                               &#946;-Mercaptoethanol {n}   \n",
       "3                                       &#963;-Algebra {f}   \n",
       "4                                       &#963;-Algebra {f}   \n",
       "5                                                    & Co.   \n",
       "6        'Die' heißt mein Unterrock, und 'der' hängt im...   \n",
       "7                              'n Abend allerseits! [ugs.]   \n",
       "8                                'nauf [regional] [hinauf]   \n",
       "9                                 'Nduja {f} [auch: Nduja]   \n",
       "10                                  'ne Macke haben [ugs.]   \n",
       "11                                    'ne Menge ... [ugs.]   \n",
       "12                                        'ne Menge [ugs.]   \n",
       "13        'Nen interessanten Job habt ihr Jungs da. [ugs.]   \n",
       "14                                     'nen [ugs.] [einen]   \n",
       "15                                     'nen [ugs.] [einen]   \n",
       "16                                       'ne [ugs.] [eine]   \n",
       "17                           'nunter [regional] [hinunter]   \n",
       "18                                  'n [ugs.] [ein, einen]   \n",
       "19                                  'n [ugs.] [ein, einen]   \n",
       "20                            's ist [meist poet.: es ist]   \n",
       "21                                                  's war   \n",
       "22                           'türlich! [ugs.] [Natürlich!]   \n",
       "23                                            (1x) täglich   \n",
       "24                                   (90377) Sedna {f} {m}   \n",
       "25                                     (136108) Haumea {f}   \n",
       "26                             (A-) Prima-Vista-Singen {n}   \n",
       "27                                       (abends) ausgehen   \n",
       "28                                       (abends) ausgehen   \n",
       "29                                          (aber) auch so   \n",
       "...                                                    ...   \n",
       "1106234        ”...” würde ich das nicht unbedingt nennen.   \n",
       "1106235               ”Auf-Biegen-und-Brechen”-Klausel {f}   \n",
       "1106236               ”Auf-Biegen-und-Brechen”-Vertrag {m}   \n",
       "1106237                               ”Bombenerfinder” {m}   \n",
       "1106238  ”Bostoner Ehe” {f} [Lebensgemeinschaft von zwe...   \n",
       "1106239                       ”Danke.” - ”Gern geschehen.”   \n",
       "1106240  ”der fröhliche Monarch” [volkstümliche Bezeich...   \n",
       "1106241  ”Du sagst nicht die Wahrheit, oder?” ”Sag ich ...   \n",
       "1106242  ”Du warst auch da.” ”Stimmt ja! Hatte ich verg...   \n",
       "1106243     ”Good” lässt sich (hier) mit ”gut” übersetzen.   \n",
       "1106244                      ”groß” machen [Kindersprache]   \n",
       "1106245                         ”Hallo, hier ist Michael.”   \n",
       "1106246            ”Hallo, mein Name ist Michael Schmidt.”   \n",
       "1106247  ”Old Boy Network” {n} [Männerfreundschaften, z...   \n",
       "1106248                               ”Pick-up”-Presse {f}   \n",
       "1106249                                ”Revier” {n} [ugs.]   \n",
       "1106250                       ”Rund um die Uhr”-Handel {m}   \n",
       "1106251                       ”Rund um die Uhr”-Handel {m}   \n",
       "1106252                            ”Stand!” [Seilkommando]   \n",
       "1106253                                      ”Vermischtes”   \n",
       "1106254  ”von oben nach unten”-Methode {f} [Renominalis...   \n",
       "1106255  ”Wechselstaat” {m} [US-Bundesstaat, der keiner...   \n",
       "1106256                      ”Welche Wonne!”, seufzte sie.   \n",
       "1106257                                  ”wer” sein [ugs.]   \n",
       "1106258  ”widerrechtliches Betreten wird strafrechtlich...   \n",
       "1106259                                     ”Zahn in Zahn”   \n",
       "1106260                                  „...“, so Merkel.   \n",
       "1106261                             „Hallo, Michael hier.”   \n",
       "1106262  „Schnellspur“-Chirurgie {f} [perioperatives th...   \n",
       "1106263                                       „Zum Geleit“   \n",
       "\n",
       "                                               EnglishWord WordType  \n",
       "0                                           &#945;-keratin     noun  \n",
       "1                           &#945;-lactalbumin <&#945;-La>     noun  \n",
       "2                                   &#946;-mercaptoethanol     noun  \n",
       "3                                             &#963;-field     noun  \n",
       "4                                            sigma algebra     noun  \n",
       "5                                      and company <& Co.>      NaN  \n",
       "6        'She' is the cat's mother. [used to encourage ...      NaN  \n",
       "7                                     Evening all! [coll.]      NaN  \n",
       "8                                                       up      adv  \n",
       "9                                     'nduja [also: nduja]     noun  \n",
       "10                            to be off one's head [coll.]     verb  \n",
       "11                                           plenty of ...      NaN  \n",
       "12                                         lots of [coll.]      NaN  \n",
       "13                          Interesting job you guys have.      NaN  \n",
       "14                                                       a      NaN  \n",
       "15                                                      an      NaN  \n",
       "16                                                       a      NaN  \n",
       "17                                                    down      adv  \n",
       "18                                                       a      NaN  \n",
       "19                                                      an      NaN  \n",
       "20                                                    'tis      NaN  \n",
       "21                                                   'twas      NaN  \n",
       "22                                        That's for sure.      NaN  \n",
       "23                     once a day <q.d.> <qd> [quaque die]      adv  \n",
       "24                                           (90377) Sedna     noun  \n",
       "25                                         (136108) Haumea     noun  \n",
       "26                                           sight-singing     noun  \n",
       "27                                   to go for a night out     verb  \n",
       "28                                     to have a night out     verb  \n",
       "29                                           (but) even so      NaN  \n",
       "...                                                    ...      ...  \n",
       "1106234  '...' isn't the word I'd choose to describe it...      NaN  \n",
       "1106235                          hell-or-high-water clause     noun  \n",
       "1106236                        hell-or-high-water contract     noun  \n",
       "1106237                                      bomb inventor     noun  \n",
       "1106238                                    Boston marriage     noun  \n",
       "1106239                     ”Thank you.” - ”Done.” [coll.]      NaN  \n",
       "1106240                                  the Merry Monarch     noun  \n",
       "1106241  ”You're not telling the truth, are you?” ”I am...      NaN  \n",
       "1106242  ”You were there, too.” ”So I was - I'd forgott...      NaN  \n",
       "1106243                 ”Good” translates as ”gut” (here).      NaN  \n",
       "1106244               to do a number two [children's talk]     verb  \n",
       "1106245       ”Hi, this is Michael.” [caller on telephone]      NaN  \n",
       "1106246  ”Hi, this is Michael Schmidt.” [caller on tele...      NaN  \n",
       "1106247                                    old boy network     noun  \n",
       "1106248                                              baler     noun  \n",
       "1106249                                          Ruhr area     noun  \n",
       "1106250                                    24-hour trading     noun  \n",
       "1106251                                    all-day trading     noun  \n",
       "1106252                                       ”off belay!”      NaN  \n",
       "1106253                          ”Miscellaneous” [heading]      NaN  \n",
       "1106254                                    top-down method     noun  \n",
       "1106255                                        swing state     noun  \n",
       "1106256                             ”Ecstasy!” she sighed.      NaN  \n",
       "1106257                                 to be (a) somebody     verb  \n",
       "1106258                   ”trespassers will be prosecuted”      NaN  \n",
       "1106259               dens in dente [tooth within a tooth]      NaN  \n",
       "1106260                                ”...”, said Merkel.      NaN  \n",
       "1106261       ”Hi, this is Michael.” [caller on telephone]      NaN  \n",
       "1106262                                 fast track surgery     noun  \n",
       "1106263                                          'Preface'      NaN  \n",
       "\n",
       "[1106264 rows x 3 columns]"
      ]
     },
     "execution_count": 5,
     "metadata": {},
     "output_type": "execute_result"
    }
   ],
   "source": [
    "dictcc_df"
   ]
  },
  {
   "cell_type": "markdown",
   "metadata": {},
   "source": [
    "### Convert WordType Column to a pandas.Categorical"
   ]
  },
  {
   "cell_type": "code",
   "execution_count": 153,
   "metadata": {
    "collapsed": false
   },
   "outputs": [
    {
     "data": {
      "text/plain": [
       "GermanWord       object\n",
       "EnglishWord      object\n",
       "WordType       category\n",
       "dtype: object"
      ]
     },
     "execution_count": 153,
     "metadata": {},
     "output_type": "execute_result"
    }
   ],
   "source": [
    "word_types = dictcc_df[\"WordType\"].astype('category')\n",
    "dictcc_df[\"WordType\"] = word_types\n",
    "# show data types of each column in the dataframe\n",
    "dictcc_df.dtypes"
   ]
  },
  {
   "cell_type": "markdown",
   "metadata": {},
   "source": [
    "### List the current distribution of word types in our dataframe"
   ]
  },
  {
   "cell_type": "code",
   "execution_count": 154,
   "metadata": {
    "collapsed": false
   },
   "outputs": [
    {
     "data": {
      "text/plain": [
       "noun                  759619\n",
       "verb                  126806\n",
       "adj                    94507\n",
       "adv                    26277\n",
       "adj past-p             12519\n",
       "adj pres-p              4907\n",
       "past-p                  2712\n",
       "adj adv                 1687\n",
       "prep                     976\n",
       "pron                     500\n",
       "conj                     350\n",
       "pres-p                   308\n",
       "prefix                   177\n",
       "past-p adj                75\n",
       "suffix                    67\n",
       "pres-p adj                43\n",
       "adv adj                   30\n",
       "adv prep                  27\n",
       "adj pron                  27\n",
       "adj.                      16\n",
       "adv conj                  11\n",
       "adv noun                  11\n",
       "adj suffix                10\n",
       "adj archaic:adv           10\n",
       "prep conj                 10\n",
       "noun adv                   6\n",
       "adv pron                   5\n",
       "adj coll:adv               5\n",
       "adv past-p                 4\n",
       "adj noun                   4\n",
       "                       ...  \n",
       "adj archaic:past-p         2\n",
       "adj attr.                  2\n",
       "adj adv past-p             2\n",
       "[none]                     2\n",
       "adv prep conj              2\n",
       "adv pres-p                 2\n",
       "adv dated:adj              2\n",
       "[none][none]               1\n",
       "ad jpast-p                 1\n",
       "rel pron                   1\n",
       "pron adv                   1\n",
       "adj adv noun               1\n",
       "adv.                       1\n",
       "adj adv prep conj          1\n",
       "adj adv pres-p             1\n",
       "adj adv pron               1\n",
       "adv suffix                 1\n",
       "adj rare:past-p            1\n",
       "adj rare:adv               1\n",
       "adj coll.:adv              1\n",
       "adv coll.:adj              1\n",
       "adj obs:past-p             1\n",
       "pron adj                   1\n",
       "adj past-p adv             1\n",
       "adj pp                     1\n",
       "adj pred                   1\n",
       "adv archaic:adj            1\n",
       "pres-p archaic:adj         1\n",
       "adjadj                     1\n",
       "pres-p rare:adj            1\n",
       "Name: WordType, dtype: int64"
      ]
     },
     "execution_count": 154,
     "metadata": {},
     "output_type": "execute_result"
    }
   ],
   "source": [
    "dictcc_df[\"WordType\"].value_counts()"
   ]
  },
  {
   "cell_type": "markdown",
   "metadata": {},
   "source": [
    "### Filter the results that we want"
   ]
  },
  {
   "cell_type": "markdown",
   "metadata": {},
   "source": [
    "#### We want results that are less than 'x' letters long"
   ]
  },
  {
   "cell_type": "code",
   "execution_count": 155,
   "metadata": {
    "collapsed": false
   },
   "outputs": [
    {
     "data": {
      "text/html": [
       "<div>\n",
       "<table border=\"1\" class=\"dataframe\">\n",
       "  <thead>\n",
       "    <tr style=\"text-align: right;\">\n",
       "      <th></th>\n",
       "      <th>GermanWord</th>\n",
       "      <th>EnglishWord</th>\n",
       "      <th>WordType</th>\n",
       "    </tr>\n",
       "  </thead>\n",
       "  <tbody>\n",
       "    <tr>\n",
       "      <th>count</th>\n",
       "      <td>112422</td>\n",
       "      <td>112422</td>\n",
       "      <td>111436</td>\n",
       "    </tr>\n",
       "    <tr>\n",
       "      <th>unique</th>\n",
       "      <td>81982</td>\n",
       "      <td>42674</td>\n",
       "      <td>39</td>\n",
       "    </tr>\n",
       "    <tr>\n",
       "      <th>top</th>\n",
       "      <td>knapp</td>\n",
       "      <td>boom</td>\n",
       "      <td>noun</td>\n",
       "    </tr>\n",
       "    <tr>\n",
       "      <th>freq</th>\n",
       "      <td>26</td>\n",
       "      <td>35</td>\n",
       "      <td>68793</td>\n",
       "    </tr>\n",
       "  </tbody>\n",
       "</table>\n",
       "</div>"
      ],
      "text/plain": [
       "       GermanWord EnglishWord WordType\n",
       "count      112422      112422   111436\n",
       "unique      81982       42674       39\n",
       "top         knapp        boom     noun\n",
       "freq           26          35    68793"
      ]
     },
     "execution_count": 155,
     "metadata": {},
     "output_type": "execute_result"
    }
   ],
   "source": [
    "lt_x_letters = dictcc_df_filtered[\"EnglishWord\"].str.len() < 9\n",
    "dictcc_df_filtered[lt_x_letters]\n",
    "dictcc_df_filtered = dictcc_df_filtered[lt_x_letters]\n",
    "dictcc_df_filtered.describe()"
   ]
  },
  {
   "cell_type": "markdown",
   "metadata": {},
   "source": [
    "#### We want to remove all duplicates"
   ]
  },
  {
   "cell_type": "code",
   "execution_count": 156,
   "metadata": {
    "collapsed": false
   },
   "outputs": [
    {
     "data": {
      "text/html": [
       "<div>\n",
       "<table border=\"1\" class=\"dataframe\">\n",
       "  <thead>\n",
       "    <tr style=\"text-align: right;\">\n",
       "      <th></th>\n",
       "      <th>GermanWord</th>\n",
       "      <th>EnglishWord</th>\n",
       "      <th>WordType</th>\n",
       "    </tr>\n",
       "  </thead>\n",
       "  <tbody>\n",
       "    <tr>\n",
       "      <th>count</th>\n",
       "      <td>42674</td>\n",
       "      <td>42674</td>\n",
       "      <td>42075</td>\n",
       "    </tr>\n",
       "    <tr>\n",
       "      <th>unique</th>\n",
       "      <td>36572</td>\n",
       "      <td>42674</td>\n",
       "      <td>27</td>\n",
       "    </tr>\n",
       "    <tr>\n",
       "      <th>top</th>\n",
       "      <td>angemessen</td>\n",
       "      <td>famine</td>\n",
       "      <td>noun</td>\n",
       "    </tr>\n",
       "    <tr>\n",
       "      <th>freq</th>\n",
       "      <td>13</td>\n",
       "      <td>1</td>\n",
       "      <td>27744</td>\n",
       "    </tr>\n",
       "  </tbody>\n",
       "</table>\n",
       "</div>"
      ],
      "text/plain": [
       "        GermanWord EnglishWord WordType\n",
       "count        42674       42674    42075\n",
       "unique       36572       42674       27\n",
       "top     angemessen      famine     noun\n",
       "freq            13           1    27744"
      ]
     },
     "execution_count": 156,
     "metadata": {},
     "output_type": "execute_result"
    }
   ],
   "source": [
    "dictcc_df_filtered = dictcc_df_filtered.drop_duplicates(\"EnglishWord\")\n",
    "dictcc_df_filtered.describe()"
   ]
  },
  {
   "cell_type": "markdown",
   "metadata": {},
   "source": [
    "#### We want to remove words that are difficult to spell (long vowel repitions)"
   ]
  },
  {
   "cell_type": "code",
   "execution_count": 172,
   "metadata": {
    "collapsed": false
   },
   "outputs": [
    {
     "data": {
      "text/html": [
       "<div>\n",
       "<table border=\"1\" class=\"dataframe\">\n",
       "  <thead>\n",
       "    <tr style=\"text-align: right;\">\n",
       "      <th></th>\n",
       "      <th>GermanWord</th>\n",
       "      <th>EnglishWord</th>\n",
       "      <th>WordType</th>\n",
       "    </tr>\n",
       "  </thead>\n",
       "  <tbody>\n",
       "    <tr>\n",
       "      <th>count</th>\n",
       "      <td>42359</td>\n",
       "      <td>42359</td>\n",
       "      <td>41765</td>\n",
       "    </tr>\n",
       "    <tr>\n",
       "      <th>unique</th>\n",
       "      <td>36339</td>\n",
       "      <td>42359</td>\n",
       "      <td>27</td>\n",
       "    </tr>\n",
       "    <tr>\n",
       "      <th>top</th>\n",
       "      <td>angemessen</td>\n",
       "      <td>famine</td>\n",
       "      <td>noun</td>\n",
       "    </tr>\n",
       "    <tr>\n",
       "      <th>freq</th>\n",
       "      <td>13</td>\n",
       "      <td>1</td>\n",
       "      <td>27585</td>\n",
       "    </tr>\n",
       "  </tbody>\n",
       "</table>\n",
       "</div>"
      ],
      "text/plain": [
       "        GermanWord EnglishWord WordType\n",
       "count        42359       42359    41765\n",
       "unique       36339       42359       27\n",
       "top     angemessen      famine     noun\n",
       "freq            13           1    27585"
      ]
     },
     "execution_count": 172,
     "metadata": {},
     "output_type": "execute_result"
    }
   ],
   "source": [
    "long_vowel_rep_pattern = r'\\b\\w+[aeiou][aeiou][aeiou]\\w+\\b'\n",
    "is_long_vowel_rep = dictcc_df_filtered[\"EnglishWord\"].str.contains(long_vowel_rep_pattern, na=False)\n",
    "dictcc_df_filtered = dictcc_df_filtered[~is_long_vowel_rep]\n",
    "dictcc_df_filtered.describe()"
   ]
  },
  {
   "cell_type": "markdown",
   "metadata": {},
   "source": [
    "### Show the distribution of word types after filtering"
   ]
  },
  {
   "cell_type": "code",
   "execution_count": 174,
   "metadata": {
    "collapsed": false
   },
   "outputs": [
    {
     "data": {
      "text/plain": [
       "noun                  27585\n",
       "adj                    7245\n",
       "adj past-p             2123\n",
       "verb                   1973\n",
       "adv                    1231\n",
       "adj pres-p              683\n",
       "past-p                  615\n",
       "adj adv                 132\n",
       "pron                     44\n",
       "prep                     42\n",
       "pres-p                   34\n",
       "conj                     22\n",
       "past-p adj                8\n",
       "prefix                    7\n",
       "adj pron                  5\n",
       "pres-p adj                3\n",
       "adv conj                  2\n",
       "adj archaic:adv           2\n",
       "adv dated:adj             1\n",
       "adj archaic:past-p        1\n",
       "adj obs:past-p            1\n",
       "adv prep conj             1\n",
       "adv prep                  1\n",
       "adv adj                   1\n",
       "[none]                    1\n",
       "adv pron                  1\n",
       "pres-p archaic:adj        1\n",
       "[none][none]              0\n",
       "ad jpast-p                0\n",
       "rel pron                  0\n",
       "                      ...  \n",
       "adj adv past-p            0\n",
       "prep conj                 0\n",
       "adj adv pres-p            0\n",
       "adj adv pron              0\n",
       "pron adj                  0\n",
       "pres-p rare:adj           0\n",
       "adj attr.                 0\n",
       "adj coll.:adv             0\n",
       "adj coll:adv              0\n",
       "adj noun                  0\n",
       "adj adv prep conj         0\n",
       "adv pres-p                0\n",
       "adv past-p                0\n",
       "adj pp                    0\n",
       "adv noun                  0\n",
       "adv suffix                0\n",
       "adv coll.:adj             0\n",
       "adv archaic:adj           0\n",
       "suffix                    0\n",
       "adv.                      0\n",
       "adjadj                    0\n",
       "adj.                      0\n",
       "adj suffix                0\n",
       "adj rare:past-p           0\n",
       "adj rare:adv              0\n",
       "noun adv                  0\n",
       "prep adv                  0\n",
       "adj prep                  0\n",
       "adj pred                  0\n",
       "adj past-p adv            0\n",
       "Name: WordType, dtype: int64"
      ]
     },
     "execution_count": 174,
     "metadata": {},
     "output_type": "execute_result"
    }
   ],
   "source": [
    "dictcc_df_filtered[\"WordType\"].value_counts()"
   ]
  },
  {
   "cell_type": "markdown",
   "metadata": {},
   "source": [
    "### Apply best practices for wordlists (from BIP-0039)"
   ]
  },
  {
   "cell_type": "code",
   "execution_count": 490,
   "metadata": {
    "collapsed": false
   },
   "outputs": [],
   "source": [
    "nouns = dictcc_df_filtered[dictcc_df_filtered[\"WordType\"] == \"noun\"]\n",
    "adjectives = dictcc_df_filtered[dictcc_df_filtered[\"WordType\"] == \"adj\"]\n",
    "verb = dictcc_df_filtered[dictcc_df_filtered[\"WordType\"] == \"verb\"]"
   ]
  },
  {
   "cell_type": "markdown",
   "metadata": {},
   "source": [
    "#### a) smart selection of words"
   ]
  },
  {
   "cell_type": "markdown",
   "metadata": {},
   "source": [
    "- the wordlist is created in such way that it's enough to type the first four letters to unambiguously identify the word"
   ]
  },
  {
   "cell_type": "markdown",
   "metadata": {},
   "source": [
    "#### b) similar words avoided"
   ]
  },
  {
   "cell_type": "markdown",
   "metadata": {},
   "source": [
    "- word pairs like \"build\" and \"built\", \"woman\" and \"women\", or \"quick\" and \"quickly\" not only make remembering the sentence difficult, but are also more error prone and more difficult to guess"
   ]
  },
  {
   "cell_type": "code",
   "execution_count": 342,
   "metadata": {
    "collapsed": false
   },
   "outputs": [],
   "source": [
    "# `pip install python-levenshtein`\n",
    "# used to calculate the Levenshtein distance between words\n",
    "import Levenshtein as lev"
   ]
  },
  {
   "cell_type": "code",
   "execution_count": 511,
   "metadata": {
    "collapsed": false
   },
   "outputs": [],
   "source": [
    "# Maximize the Levenshtein distance between neighbouring words\n",
    "def spread_words(dataframe_values, min_distance = 50, min_lev = 5):\n",
    "    words = []\n",
    "    words.extend(dataframe_values)\n",
    "    short_distances = 0\n",
    "    for i in range(len(words)-1):\n",
    "        next = i + 1\n",
    "        if lev.distance(words[i],words[next]) < min_lev:\n",
    "            short_distances = short_distances + 1\n",
    "            words.append(words[next])\n",
    "            words.remove(words[next])\n",
    "    # The value for min_distance was derived\n",
    "    # by simple trial and error\n",
    "    if short_distances < min_distance:\n",
    "        # The remaining words with short distance \n",
    "        # will have to be sorted out by hand.\n",
    "        print(\"neighbours with short distances: \" + str(short_distances))\n",
    "        return words\n",
    "    else:\n",
    "        # Recurse until we minimize short distances\n",
    "        # as much as possible.\n",
    "        return spread_words(words)"
   ]
  },
  {
   "cell_type": "code",
   "execution_count": 512,
   "metadata": {
    "collapsed": false
   },
   "outputs": [
    {
     "name": "stdout",
     "output_type": "stream",
     "text": [
      "neighbours with short distances: 44\n"
     ]
    }
   ],
   "source": [
    "min_distance_nouns = spread_words(nouns[\"EnglishWord\"].values,25)"
   ]
  },
  {
   "cell_type": "code",
   "execution_count": 505,
   "metadata": {
    "collapsed": false
   },
   "outputs": [
    {
     "name": "stdout",
     "output_type": "stream",
     "text": [
      "neighbours with short distances: 44\n"
     ]
    },
    {
     "data": {
      "text/plain": [
       "7245"
      ]
     },
     "execution_count": 505,
     "metadata": {},
     "output_type": "execute_result"
    }
   ],
   "source": [
    "min_distance_adjectives = spread_words(adjectives[\"EnglishWord\"].values)\n",
    "len(min_distance_adjectives)"
   ]
  },
  {
   "cell_type": "code",
   "execution_count": 518,
   "metadata": {
    "collapsed": false
   },
   "outputs": [],
   "source": [
    "# The distance between verbs seems to be good enough already\n",
    "min_distance_verbs = verbs[\"EnglishWord\"].values"
   ]
  },
  {
   "cell_type": "markdown",
   "metadata": {},
   "source": [
    "#### Write nouns to csv file"
   ]
  },
  {
   "cell_type": "code",
   "execution_count": 520,
   "metadata": {
    "collapsed": false
   },
   "outputs": [],
   "source": [
    "import csv\n",
    "with open(\"nouns.csv\", \"w\") as output:\n",
    "    writer = csv.writer(output, lineterminator='\\n')\n",
    "    for val in min_distance_nouns:\n",
    "        writer.writerow([val])"
   ]
  }
 ],
 "metadata": {
  "kernelspec": {
   "display_name": "Python 3",
   "language": "python",
   "name": "python3"
  },
  "language_info": {
   "codemirror_mode": {
    "name": "ipython",
    "version": 3
   },
   "file_extension": ".py",
   "mimetype": "text/x-python",
   "name": "python",
   "nbconvert_exporter": "python",
   "pygments_lexer": "ipython3",
   "version": "3.5.2"
  }
 },
 "nbformat": 4,
 "nbformat_minor": 0
}
